{
 "cells": [
  {
   "cell_type": "code",
   "execution_count": 20,
   "id": "ba6d4184-c285-4e91-985a-a2e847c1666c",
   "metadata": {},
   "outputs": [],
   "source": [
    "import requests\n",
    "from bs4 import BeautifulSoup\n",
    "import re\n",
    "import os\n",
    "import sys\n",
    "import m3u8_To_MP4"
   ]
  },
  {
   "cell_type": "code",
   "execution_count": 3,
   "id": "a5c1aadf-b364-4bab-aa39-e8867ae7e3b9",
   "metadata": {},
   "outputs": [],
   "source": [
    "base_address = 'https://ww4.gogoanimes.org/watch/'"
   ]
  },
  {
   "cell_type": "code",
   "execution_count": 4,
   "id": "3e301627-d4c1-470b-a09f-82b0c757425e",
   "metadata": {},
   "outputs": [],
   "source": [
    "#file_name = 'one-piece-episode-1'\n",
    "file_name = 'initial-d-first-stage-episode-1'"
   ]
  },
  {
   "cell_type": "code",
   "execution_count": 5,
   "id": "6c4df4f0-042c-4df2-92fa-0c4ac6ef93f5",
   "metadata": {},
   "outputs": [],
   "source": [
    "url = base_address + file_name"
   ]
  },
  {
   "cell_type": "code",
   "execution_count": 6,
   "id": "a5b2bcd6-5304-4196-be1e-82cd9294e525",
   "metadata": {},
   "outputs": [],
   "source": [
    "site = requests.get(url)"
   ]
  },
  {
   "cell_type": "code",
   "execution_count": 7,
   "id": "be629bbe-7132-4179-baa5-bdf870f94bc8",
   "metadata": {},
   "outputs": [],
   "source": [
    "if site.ok:\n",
    "    soup = BeautifulSoup(site.content, 'html.parser')\n",
    "    vidsite = requests.get(soup.find_all(class_=\"play-video\")[0].iframe.attrs['src'])\n",
    "    if vidsite.ok:\n",
    "        soup2 = BeautifulSoup(vidsite.content, 'html.parser')"
   ]
  },
  {
   "cell_type": "code",
   "execution_count": 8,
   "id": "621057c0-e4f7-47ab-a66a-df5b9c6ff146",
   "metadata": {},
   "outputs": [],
   "source": [
    "data = soup2.find_all('script')[3]\n",
    "bla = [x.strip() for x in data.text.split('\\n') if x.strip()]\n",
    "#p = re.compile(\"(\\w+): '(.*?)'\")\n",
    "#fields = dict(re.findall(p, data.text))\n",
    "link = eval(bla[16].split(':')[1])\n"
   ]
  },
  {
   "cell_type": "code",
   "execution_count": 9,
   "id": "aa11a6c7-a352-45ad-baa7-5fe87ffeaca6",
   "metadata": {},
   "outputs": [
    {
     "data": {
      "text/plain": [
       "'/playlist/MTk4NjI=.m3u8'"
      ]
     },
     "execution_count": 9,
     "metadata": {},
     "output_type": "execute_result"
    }
   ],
   "source": [
    "link"
   ]
  },
  {
   "cell_type": "code",
   "execution_count": 10,
   "id": "94da8bc8-27f1-4e73-822d-fb432dacd9cd",
   "metadata": {},
   "outputs": [],
   "source": [
    "final_link = requests.get(vidsite.url.split('/embed', 1)[0] + link, stream=True)"
   ]
  },
  {
   "cell_type": "code",
   "execution_count": 11,
   "id": "77aefaee-87a1-44e7-959c-9f5b9d976bab",
   "metadata": {},
   "outputs": [
    {
     "data": {
      "text/plain": [
       "'https://ww1.9anime2.com/embed/MTk4NjI='"
      ]
     },
     "execution_count": 11,
     "metadata": {},
     "output_type": "execute_result"
    }
   ],
   "source": [
    "vidsite.url"
   ]
  },
  {
   "cell_type": "code",
   "execution_count": 12,
   "id": "23a07bca-8896-427a-b10e-5d35403ac697",
   "metadata": {},
   "outputs": [],
   "source": [
    "m3u8_link = vidsite.url.split('/embed', 1)[0] + link"
   ]
  },
  {
   "cell_type": "code",
   "execution_count": 16,
   "id": "ec347093-5b69-4640-9670-4d093ad91a2a",
   "metadata": {},
   "outputs": [
    {
     "name": "stderr",
     "output_type": "stream",
     "text": [
      "2022-11-20 04:03:10,826 | INFO | Resolved available hosts:\n",
      "2022-11-20 04:03:10,827 | INFO | 172.67.173.126:443\n",
      "2022-11-20 04:03:10,828 | INFO | 172.67.173.126:443\n",
      "2022-11-20 04:03:10,829 | INFO | 104.21.30.178:443\n",
      "2022-11-20 04:03:10,830 | INFO | 104.21.30.178:443\n"
     ]
    },
    {
     "name": "stdout",
     "output_type": "stream",
     "text": [
      "\n",
      "summary\n",
      "m3u8_uri: https://ww1.9anime2.com/playlist/MTk4NjI=.m3u8;\n",
      "max_retry_times: 3;\n",
      "tmp_dir: /tmp/m3u8_850423240;\n",
      "mp4_file_path: ./m3u8_To_MP4.mp4;\n",
      "\n",
      "segment set: |###############################-------------------| 61.2% downloading..."
     ]
    },
    {
     "name": "stderr",
     "output_type": "stream",
     "text": [
      "2022-11-20 04:03:26,268 | INFO | 290 segments are failed to download, retry...\n"
     ]
    },
    {
     "name": "stdout",
     "output_type": "stream",
     "text": [
      "\n",
      "segment set: |#########################################---------| 81.3% downloading..."
     ]
    },
    {
     "name": "stderr",
     "output_type": "stream",
     "text": [
      "2022-11-20 04:03:32,458 | INFO | 140 segments are failed to download, retry...\n"
     ]
    },
    {
     "name": "stdout",
     "output_type": "stream",
     "text": [
      "\n",
      "segment set: |############################################------| 88.5% downloading..."
     ]
    },
    {
     "name": "stderr",
     "output_type": "stream",
     "text": [
      "2022-11-20 04:03:35,817 | INFO | 86 segments are failed to download, retry...\n"
     ]
    },
    {
     "name": "stdout",
     "output_type": "stream",
     "text": [
      "\n",
      "segment set: |###############################################---| 93.3% downloading...\n"
     ]
    },
    {
     "name": "stderr",
     "output_type": "stream",
     "text": [
      "2022-11-20 04:03:37,938 | INFO | 50 segments are failed to download, retry...\n"
     ]
    },
    {
     "name": "stdout",
     "output_type": "stream",
     "text": [
      "segment set: |################################################--| 95.2% downloading..."
     ]
    },
    {
     "name": "stderr",
     "output_type": "stream",
     "text": [
      "2022-11-20 04:03:39,338 | INFO | 36 segments are failed to download, retry...\n"
     ]
    },
    {
     "name": "stdout",
     "output_type": "stream",
     "text": [
      "\n",
      "segment set: |################################################--| 96.0% downloading..."
     ]
    },
    {
     "name": "stderr",
     "output_type": "stream",
     "text": [
      "2022-11-20 04:03:40,481 | INFO | 30 segments are failed to download, retry...\n"
     ]
    },
    {
     "name": "stdout",
     "output_type": "stream",
     "text": [
      "\n",
      "segment set: |#################################################-| 97.6% downloading...\n"
     ]
    },
    {
     "name": "stderr",
     "output_type": "stream",
     "text": [
      "2022-11-20 04:03:41,531 | INFO | 18 segments are failed to download, retry...\n"
     ]
    },
    {
     "name": "stdout",
     "output_type": "stream",
     "text": [
      "segment set: |#################################################-| 98.7% downloading..."
     ]
    },
    {
     "name": "stderr",
     "output_type": "stream",
     "text": [
      "2022-11-20 04:03:42,413 | INFO | 10 segments are failed to download, retry...\n"
     ]
    },
    {
     "name": "stdout",
     "output_type": "stream",
     "text": [
      "\n",
      "segment set: |##################################################| 99.1% downloading..."
     ]
    },
    {
     "name": "stderr",
     "output_type": "stream",
     "text": [
      "2022-11-20 04:03:43,037 | INFO | 7 segments are failed to download, retry...\n"
     ]
    },
    {
     "name": "stdout",
     "output_type": "stream",
     "text": [
      "\n",
      "segment set: |##################################################| 99.5% downloading..."
     ]
    },
    {
     "name": "stderr",
     "output_type": "stream",
     "text": [
      "2022-11-20 04:03:43,700 | INFO | 4 segments are failed to download, retry...\n"
     ]
    },
    {
     "name": "stdout",
     "output_type": "stream",
     "text": [
      "\n",
      "segment set: |##################################################| 100.0% downloaded segments successfully!\n"
     ]
    },
    {
     "name": "stderr",
     "output_type": "stream",
     "text": [
      "2022-11-20 04:03:44,302 | INFO | decrypt and dump segments...\n",
      "2022-11-20 04:03:44,502 | INFO | merging segments...\n",
      "2022-11-20 04:03:51,742 | INFO | download successfully！ take 40.92s,  average download speed is 2173.39KB/s\n"
     ]
    }
   ],
   "source": [
    "m3u8_To_MP4.multithread_download(m3u8_link)"
   ]
  },
  {
   "cell_type": "code",
   "execution_count": null,
   "id": "95c444c1-9244-4669-8f09-301892eb9758",
   "metadata": {},
   "outputs": [],
   "source": [
    "# We might want to create directories for each anime we will be downloading"
   ]
  },
  {
   "cell_type": "code",
   "execution_count": 18,
   "id": "453832b0-385e-4406-a3c7-a67bee81f67c",
   "metadata": {},
   "outputs": [],
   "source": [
    "os.rename(\"m3u8_To_MP4.mp4\", \"../\" + file_name + \".mp4\")"
   ]
  },
  {
   "cell_type": "code",
   "execution_count": 268,
   "id": "21ba2bd3-1eec-4afa-9c8e-f1d64a430fae",
   "metadata": {},
   "outputs": [],
   "source": [
    "# After the download is done, we want to rename the file to the episode name... right now the downloaded file is named: m3u8_To_MP4.mp4"
   ]
  }
 ],
 "metadata": {
  "kernelspec": {
   "display_name": "Python 3 (ipykernel)",
   "language": "python",
   "name": "python3"
  },
  "language_info": {
   "codemirror_mode": {
    "name": "ipython",
    "version": 3
   },
   "file_extension": ".py",
   "mimetype": "text/x-python",
   "name": "python",
   "nbconvert_exporter": "python",
   "pygments_lexer": "ipython3",
   "version": "3.10.8"
  }
 },
 "nbformat": 4,
 "nbformat_minor": 5
}
