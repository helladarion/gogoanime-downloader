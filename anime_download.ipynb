{
 "cells": [
  {
   "cell_type": "code",
   "execution_count": 269,
   "id": "ba6d4184-c285-4e91-985a-a2e847c1666c",
   "metadata": {},
   "outputs": [],
   "source": [
    "import requests\n",
    "from tqdm import tqdm\n",
    "from bs4 import BeautifulSoup\n",
    "import re\n",
    "import sys\n",
    "import m3u8_To_MP4"
   ]
  },
  {
   "cell_type": "code",
   "execution_count": 270,
   "id": "a5c1aadf-b364-4bab-aa39-e8867ae7e3b9",
   "metadata": {},
   "outputs": [],
   "source": [
    "base_address = 'https://ww4.gogoanimes.org/watch/'"
   ]
  },
  {
   "cell_type": "code",
   "execution_count": 271,
   "id": "3e301627-d4c1-470b-a09f-82b0c757425e",
   "metadata": {},
   "outputs": [],
   "source": [
    "#file_name = 'one-piece-episode-1'\n",
    "file_name = 'initial-d-first-stage-episode-1'"
   ]
  },
  {
   "cell_type": "code",
   "execution_count": 272,
   "id": "6c4df4f0-042c-4df2-92fa-0c4ac6ef93f5",
   "metadata": {},
   "outputs": [],
   "source": [
    "url = base_address + file_name"
   ]
  },
  {
   "cell_type": "code",
   "execution_count": 273,
   "id": "a5b2bcd6-5304-4196-be1e-82cd9294e525",
   "metadata": {},
   "outputs": [],
   "source": [
    "site = requests.get(url)"
   ]
  },
  {
   "cell_type": "code",
   "execution_count": 274,
   "id": "be629bbe-7132-4179-baa5-bdf870f94bc8",
   "metadata": {},
   "outputs": [],
   "source": [
    "if site.ok:\n",
    "    soup = BeautifulSoup(site.content, 'html.parser')\n",
    "    vidsite = requests.get(soup.find_all(class_=\"play-video\")[0].iframe.attrs['src'])\n",
    "    if vidsite.ok:\n",
    "        soup2 = BeautifulSoup(vidsite.content, 'html.parser')"
   ]
  },
  {
   "cell_type": "code",
   "execution_count": 275,
   "id": "621057c0-e4f7-47ab-a66a-df5b9c6ff146",
   "metadata": {},
   "outputs": [],
   "source": [
    "data = soup2.find_all('script')[3]\n",
    "bla = [x.strip() for x in data.text.split('\\n') if x.strip()]\n",
    "#p = re.compile(\"(\\w+): '(.*?)'\")\n",
    "#fields = dict(re.findall(p, data.text))\n",
    "link = eval(bla[16].split(':')[1])\n"
   ]
  },
  {
   "cell_type": "code",
   "execution_count": 276,
   "id": "aa11a6c7-a352-45ad-baa7-5fe87ffeaca6",
   "metadata": {},
   "outputs": [
    {
     "data": {
      "text/plain": [
       "'/playlist/MTk4NjI=.m3u8'"
      ]
     },
     "execution_count": 276,
     "metadata": {},
     "output_type": "execute_result"
    }
   ],
   "source": [
    "link"
   ]
  },
  {
   "cell_type": "code",
   "execution_count": 277,
   "id": "94da8bc8-27f1-4e73-822d-fb432dacd9cd",
   "metadata": {},
   "outputs": [],
   "source": [
    "final_link = requests.get(vidsite.url.split('/embed', 1)[0] + link, stream=True)"
   ]
  },
  {
   "cell_type": "code",
   "execution_count": 278,
   "id": "77aefaee-87a1-44e7-959c-9f5b9d976bab",
   "metadata": {},
   "outputs": [
    {
     "data": {
      "text/plain": [
       "'https://ww1.9anime2.com/embed/MTk4NjI='"
      ]
     },
     "execution_count": 278,
     "metadata": {},
     "output_type": "execute_result"
    }
   ],
   "source": [
    "vidsite.url"
   ]
  },
  {
   "cell_type": "code",
   "execution_count": 279,
   "id": "23a07bca-8896-427a-b10e-5d35403ac697",
   "metadata": {},
   "outputs": [],
   "source": [
    "m3u8_link = vidsite.url.split('/embed', 1)[0] + link"
   ]
  },
  {
   "cell_type": "code",
   "execution_count": 280,
   "id": "ec347093-5b69-4640-9670-4d093ad91a2a",
   "metadata": {},
   "outputs": [
    {
     "name": "stderr",
     "output_type": "stream",
     "text": [
      "2022-11-19 20:21:34,665 | INFO | Resolved available hosts:\n",
      "2022-11-19 20:21:34,666 | INFO | 104.21.30.178:443\n",
      "2022-11-19 20:21:34,667 | INFO | 104.21.30.178:443\n",
      "2022-11-19 20:21:34,669 | INFO | 172.67.173.126:443\n",
      "2022-11-19 20:21:34,671 | INFO | 172.67.173.126:443\n"
     ]
    },
    {
     "name": "stdout",
     "output_type": "stream",
     "text": [
      "\n",
      "summary\n",
      "m3u8_uri: https://ww1.9anime2.com/playlist/MTk4NjI=.m3u8;\n",
      "max_retry_times: 3;\n",
      "tmp_dir: /tmp/m3u8_850423240;\n",
      "mp4_file_path: ./m3u8_To_MP4.mp4;\n",
      "\n",
      "segment set: |###############################-------------------| 62.3% downloading..."
     ]
    },
    {
     "name": "stderr",
     "output_type": "stream",
     "text": [
      "2022-11-19 20:21:49,790 | INFO | 282 segments are failed to download, retry...\n"
     ]
    },
    {
     "name": "stdout",
     "output_type": "stream",
     "text": [
      "\n",
      "segment set: |#######################################-----------| 77.4% downloading..."
     ]
    },
    {
     "name": "stderr",
     "output_type": "stream",
     "text": [
      "2022-11-19 20:21:55,178 | INFO | 169 segments are failed to download, retry...\n"
     ]
    },
    {
     "name": "stdout",
     "output_type": "stream",
     "text": [
      "\n",
      "segment set: |###########################################-------| 86.8% downloading..."
     ]
    },
    {
     "name": "stderr",
     "output_type": "stream",
     "text": [
      "2022-11-19 20:21:58,560 | INFO | 99 segments are failed to download, retry...\n"
     ]
    },
    {
     "name": "stdout",
     "output_type": "stream",
     "text": [
      "\n",
      "segment set: |#############################################-----| 90.5% downloading..."
     ]
    },
    {
     "name": "stderr",
     "output_type": "stream",
     "text": [
      "2022-11-19 20:22:00,838 | INFO | 71 segments are failed to download, retry...\n"
     ]
    },
    {
     "name": "stdout",
     "output_type": "stream",
     "text": [
      "\n",
      "segment set: |##############################################----| 92.6% downloading..."
     ]
    },
    {
     "name": "stderr",
     "output_type": "stream",
     "text": [
      "2022-11-19 20:22:02,700 | INFO | 55 segments are failed to download, retry...\n"
     ]
    },
    {
     "name": "stdout",
     "output_type": "stream",
     "text": [
      "\n",
      "segment set: |###############################################---| 94.7% downloading..."
     ]
    },
    {
     "name": "stderr",
     "output_type": "stream",
     "text": [
      "2022-11-19 20:22:04,224 | INFO | 40 segments are failed to download, retry...\n"
     ]
    },
    {
     "name": "stdout",
     "output_type": "stream",
     "text": [
      "\n",
      "segment set: |################################################--| 96.7% downloading..."
     ]
    },
    {
     "name": "stderr",
     "output_type": "stream",
     "text": [
      "2022-11-19 20:22:05,480 | INFO | 25 segments are failed to download, retry...\n"
     ]
    },
    {
     "name": "stdout",
     "output_type": "stream",
     "text": [
      "\n",
      "segment set: |#################################################-| 98.5% downloading..."
     ]
    },
    {
     "name": "stderr",
     "output_type": "stream",
     "text": [
      "2022-11-19 20:22:06,419 | INFO | 11 segments are failed to download, retry...\n"
     ]
    },
    {
     "name": "stdout",
     "output_type": "stream",
     "text": [
      "\n",
      "segment set: |##################################################| 99.2% downloading..."
     ]
    },
    {
     "name": "stderr",
     "output_type": "stream",
     "text": [
      "2022-11-19 20:22:07,106 | INFO | 6 segments are failed to download, retry...\n"
     ]
    },
    {
     "name": "stdout",
     "output_type": "stream",
     "text": [
      "\n",
      "segment set: |##################################################| 99.7% downloading..."
     ]
    },
    {
     "name": "stderr",
     "output_type": "stream",
     "text": [
      "2022-11-19 20:22:07,712 | INFO | 2 segments are failed to download, retry...\n"
     ]
    },
    {
     "name": "stdout",
     "output_type": "stream",
     "text": [
      "\n",
      "segment set: |##################################################| 100.0% downloaded segments successfully!\n"
     ]
    },
    {
     "name": "stderr",
     "output_type": "stream",
     "text": [
      "2022-11-19 20:22:08,269 | INFO | decrypt and dump segments...\n",
      "2022-11-19 20:22:08,474 | INFO | merging segments...\n",
      "2022-11-19 20:22:15,422 | INFO | download successfully！ take 40.76s,  average download speed is 2164.83KB/s\n"
     ]
    }
   ],
   "source": [
    "m3u8_To_MP4.multithread_download(m3u8_link)"
   ]
  },
  {
   "cell_type": "code",
   "execution_count": 268,
   "id": "21ba2bd3-1eec-4afa-9c8e-f1d64a430fae",
   "metadata": {},
   "outputs": [],
   "source": [
    "# After the download is done, we want to rename the file to the episode name... right now the downloaded file is named: m3u8_To_MP4.mp4"
   ]
  },
  {
   "cell_type": "code",
   "execution_count": 263,
   "id": "472e670c-7ff8-4847-9da1-4609b18444b4",
   "metadata": {},
   "outputs": [],
   "source": [
    "with open(file_name + '.mp4', 'wb') as f:\n",
    "    for chunk in final_link.iter_content(chunk_size=1024*1024):\n",
    "        if chunk:\n",
    "            f.write(chunk)"
   ]
  },
  {
   "cell_type": "code",
   "execution_count": 215,
   "id": "b8751acf-2fec-4d7d-aca8-16195871791d",
   "metadata": {},
   "outputs": [
    {
     "data": {
      "text/plain": [
       "0"
      ]
     },
     "execution_count": 215,
     "metadata": {},
     "output_type": "execute_result"
    }
   ],
   "source": []
  }
 ],
 "metadata": {
  "kernelspec": {
   "display_name": "Python 3 (ipykernel)",
   "language": "python",
   "name": "python3"
  },
  "language_info": {
   "codemirror_mode": {
    "name": "ipython",
    "version": 3
   },
   "file_extension": ".py",
   "mimetype": "text/x-python",
   "name": "python",
   "nbconvert_exporter": "python",
   "pygments_lexer": "ipython3",
   "version": "3.10.8"
  }
 },
 "nbformat": 4,
 "nbformat_minor": 5
}
